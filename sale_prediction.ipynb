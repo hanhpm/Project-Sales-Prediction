{
  "nbformat": 4,
  "nbformat_minor": 0,
  "metadata": {
    "colab": {
      "provenance": []
    },
    "kernelspec": {
      "name": "python3",
      "display_name": "Python 3"
    },
    "language_info": {
      "name": "python"
    }
  },
  "cells": [
    {
      "cell_type": "code",
      "source": [
        "# 1.linear regression\n",
        "import numpy as np\n",
        "\n",
        "class CustomLinearRegression:\n",
        "    def __init__(self, X_data, y_target, learning_rate=0.01, num_epochs=10000):\n",
        "        self.num_samples = X_data.shape[0]\n",
        "        self.X_data = np.c_[np.ones((self.num_samples, 1)), X_data]  # Add bias term\n",
        "        self.y_target = y_target\n",
        "        self.learning_rate = learning_rate\n",
        "        self.num_epochs = num_epochs\n",
        "\n",
        "        # Initialize weights randomly\n",
        "        self.theta = np.random.randn(self.X_data.shape[1], 1)\n",
        "        self.losses = []\n",
        "\n",
        "    def compute_loss(self, y_pred, y_target):\n",
        "        # Compute Mean Squared Error (MSE)\n",
        "        error = y_pred - y_target\n",
        "        loss = (1 / (2 * self.num_samples)) * np.sum(np.square(error))  # MSE\n",
        "        return loss\n",
        "\n",
        "    def predict(self, X_data):\n",
        "        # Add bias term to the input data (if not already present)\n",
        "        X_data_with_bias = np.c_[np.ones((X_data.shape[0], 1)), X_data]\n",
        "        # Calculate predictions using the current weights (theta)\n",
        "        y_pred = X_data_with_bias.dot(self.theta)\n",
        "        return y_pred\n",
        "\n",
        "    def fit(self):\n",
        "        for epoch in range(self.num_epochs):\n",
        "            # Make predictions for the current epoch\n",
        "            y_pred = self.predict(self.X_data)\n",
        "\n",
        "            # Compute the loss\n",
        "            loss = self.compute_loss(y_pred, self.y_target)\n",
        "            self.losses.append(loss)\n",
        "\n",
        "            # Gradient descent step\n",
        "            gradient = (1 / self.num_samples) * self.X_data.T.dot(y_pred - self.y_target)\n",
        "            self.theta -= self.learning_rate * gradient\n",
        "\n",
        "            # Print loss every 50 epochs\n",
        "            if (epoch % 50) == 0:\n",
        "                print(f'Epoch: {epoch} - Loss: {loss}')\n",
        "\n",
        "        return {\n",
        "            'loss': sum(self.losses) / len(self.losses),\n",
        "            'weight': self.theta\n",
        "        }"
      ],
      "metadata": {
        "id": "JVdEV6ccMfXY"
      },
      "execution_count": null,
      "outputs": []
    },
    {
      "cell_type": "code",
      "source": [
        "import numpy as np\n",
        "\n",
        "def r2score(y_pred, y):\n",
        "    rss = np.sum((y_pred - y) ** 2)  # Residual sum of squares (RSS)\n",
        "    tss = np.sum((y - y.mean()) ** 2)  # Total sum of squares (TSS) based on the mean of actual values\n",
        "    r2 = 1 - (rss / tss)\n",
        "    return r2\n",
        "\n",
        "# Case 1\n",
        "y_pred_case1 = np.array([1, 2, 3, 4, 5])\n",
        "y_case1 = np.array([1, 2, 3, 4, 5])\n",
        "r2_case1 = r2score(y_pred_case1, y_case1)\n",
        "\n",
        "# Case 2\n",
        "y_pred_case2 = np.array([1, 2, 3, 4, 5])\n",
        "y_case2 = np.array([3, 5, 5, 2, 4])\n",
        "r2_case2 = r2score(y_pred_case2, y_case2)\n",
        "\n",
        "r2_case1, r2_case2"
      ],
      "metadata": {
        "colab": {
          "base_uri": "https://localhost:8080/"
        },
        "id": "55sCHiVCMfaT",
        "outputId": "97492713-6d5a-4350-dcad-5fc1fd9c15a0"
      },
      "execution_count": null,
      "outputs": [
        {
          "output_type": "execute_result",
          "data": {
            "text/plain": [
              "(1.0, -2.235294117647059)"
            ]
          },
          "metadata": {},
          "execution_count": 4
        }
      ]
    },
    {
      "cell_type": "code",
      "source": [
        "# 2.polynomial regression\n",
        "import numpy as np\n",
        "\n",
        "def create_polynomial_features(X, degree=2):\n",
        "    X_new = np.hstack([X ** i for i in range(1, degree + 1)])  # Stack columns of X raised to powers from 1 to degree\n",
        "    return X_new\n",
        "\n",
        "X = np.array([[1], [2], [3]])\n",
        "X_poly = create_polynomial_features(X, degree=2)\n",
        "print(X_poly)"
      ],
      "metadata": {
        "colab": {
          "base_uri": "https://localhost:8080/"
        },
        "id": "YWk97JCCMfdi",
        "outputId": "63b7c816-d5ed-4bb5-860f-7d70ebab4e89"
      },
      "execution_count": null,
      "outputs": [
        {
          "output_type": "stream",
          "name": "stdout",
          "text": [
            "[[1 1]\n",
            " [2 4]\n",
            " [3 9]]\n"
          ]
        }
      ]
    },
    {
      "cell_type": "code",
      "source": [
        "import numpy as np\n",
        "\n",
        "def create_polynomial_features(X, degree=2):\n",
        "    X_mem = []\n",
        "    for X_sub in X.T:\n",
        "        X_new = X_sub\n",
        "        for d in range(2, degree + 1):\n",
        "            X_new = np.c_[X_new, np.power(X_sub, d)]\n",
        "        X_mem.append(X_new.T)\n",
        "    return np.c_[X_mem].T\n",
        "\n",
        "X = np.array([[1, 2], [2, 3], [3, 4]])\n",
        "X_poly = create_polynomial_features(X, degree=2)\n",
        "print(X_poly)"
      ],
      "metadata": {
        "id": "C1F7WO6CMfjc",
        "colab": {
          "base_uri": "https://localhost:8080/"
        },
        "outputId": "4a0b4cef-7a4b-49f0-f4ea-35ad4b92e52e"
      },
      "execution_count": 6,
      "outputs": [
        {
          "output_type": "stream",
          "name": "stdout",
          "text": [
            "[[[ 1  2]\n",
            "  [ 1  4]]\n",
            "\n",
            " [[ 2  3]\n",
            "  [ 4  9]]\n",
            "\n",
            " [[ 3  4]\n",
            "  [ 9 16]]]\n"
          ]
        }
      ]
    },
    {
      "cell_type": "code",
      "source": [
        "# sales prediction\n",
        "import pandas as pd\n",
        "\n",
        "df = pd.read_csv('SalesPrediction.csv')\n",
        "df.head()"
      ],
      "metadata": {
        "id": "OaHeySJ_Mfm4",
        "colab": {
          "base_uri": "https://localhost:8080/",
          "height": 206
        },
        "outputId": "fcf94898-1839-4395-f515-94de49fdad19"
      },
      "execution_count": 8,
      "outputs": [
        {
          "output_type": "execute_result",
          "data": {
            "text/plain": [
              "     TV      Radio  Social Media Influencer       Sales\n",
              "0  16.0   6.566231      2.907983       Mega   54.732757\n",
              "1  13.0   9.237765      2.409567       Mega   46.677897\n",
              "2  41.0  15.886446      2.913410       Mega  150.177829\n",
              "3  83.0  30.020028      6.922304       Mega  298.246340\n",
              "4  15.0   8.437408      1.405998      Micro   56.594181"
            ],
            "text/html": [
              "\n",
              "  <div id=\"df-003d1552-e7c7-4aac-a2d2-f135871464fd\" class=\"colab-df-container\">\n",
              "    <div>\n",
              "<style scoped>\n",
              "    .dataframe tbody tr th:only-of-type {\n",
              "        vertical-align: middle;\n",
              "    }\n",
              "\n",
              "    .dataframe tbody tr th {\n",
              "        vertical-align: top;\n",
              "    }\n",
              "\n",
              "    .dataframe thead th {\n",
              "        text-align: right;\n",
              "    }\n",
              "</style>\n",
              "<table border=\"1\" class=\"dataframe\">\n",
              "  <thead>\n",
              "    <tr style=\"text-align: right;\">\n",
              "      <th></th>\n",
              "      <th>TV</th>\n",
              "      <th>Radio</th>\n",
              "      <th>Social Media</th>\n",
              "      <th>Influencer</th>\n",
              "      <th>Sales</th>\n",
              "    </tr>\n",
              "  </thead>\n",
              "  <tbody>\n",
              "    <tr>\n",
              "      <th>0</th>\n",
              "      <td>16.0</td>\n",
              "      <td>6.566231</td>\n",
              "      <td>2.907983</td>\n",
              "      <td>Mega</td>\n",
              "      <td>54.732757</td>\n",
              "    </tr>\n",
              "    <tr>\n",
              "      <th>1</th>\n",
              "      <td>13.0</td>\n",
              "      <td>9.237765</td>\n",
              "      <td>2.409567</td>\n",
              "      <td>Mega</td>\n",
              "      <td>46.677897</td>\n",
              "    </tr>\n",
              "    <tr>\n",
              "      <th>2</th>\n",
              "      <td>41.0</td>\n",
              "      <td>15.886446</td>\n",
              "      <td>2.913410</td>\n",
              "      <td>Mega</td>\n",
              "      <td>150.177829</td>\n",
              "    </tr>\n",
              "    <tr>\n",
              "      <th>3</th>\n",
              "      <td>83.0</td>\n",
              "      <td>30.020028</td>\n",
              "      <td>6.922304</td>\n",
              "      <td>Mega</td>\n",
              "      <td>298.246340</td>\n",
              "    </tr>\n",
              "    <tr>\n",
              "      <th>4</th>\n",
              "      <td>15.0</td>\n",
              "      <td>8.437408</td>\n",
              "      <td>1.405998</td>\n",
              "      <td>Micro</td>\n",
              "      <td>56.594181</td>\n",
              "    </tr>\n",
              "  </tbody>\n",
              "</table>\n",
              "</div>\n",
              "    <div class=\"colab-df-buttons\">\n",
              "\n",
              "  <div class=\"colab-df-container\">\n",
              "    <button class=\"colab-df-convert\" onclick=\"convertToInteractive('df-003d1552-e7c7-4aac-a2d2-f135871464fd')\"\n",
              "            title=\"Convert this dataframe to an interactive table.\"\n",
              "            style=\"display:none;\">\n",
              "\n",
              "  <svg xmlns=\"http://www.w3.org/2000/svg\" height=\"24px\" viewBox=\"0 -960 960 960\">\n",
              "    <path d=\"M120-120v-720h720v720H120Zm60-500h600v-160H180v160Zm220 220h160v-160H400v160Zm0 220h160v-160H400v160ZM180-400h160v-160H180v160Zm440 0h160v-160H620v160ZM180-180h160v-160H180v160Zm440 0h160v-160H620v160Z\"/>\n",
              "  </svg>\n",
              "    </button>\n",
              "\n",
              "  <style>\n",
              "    .colab-df-container {\n",
              "      display:flex;\n",
              "      gap: 12px;\n",
              "    }\n",
              "\n",
              "    .colab-df-convert {\n",
              "      background-color: #E8F0FE;\n",
              "      border: none;\n",
              "      border-radius: 50%;\n",
              "      cursor: pointer;\n",
              "      display: none;\n",
              "      fill: #1967D2;\n",
              "      height: 32px;\n",
              "      padding: 0 0 0 0;\n",
              "      width: 32px;\n",
              "    }\n",
              "\n",
              "    .colab-df-convert:hover {\n",
              "      background-color: #E2EBFA;\n",
              "      box-shadow: 0px 1px 2px rgba(60, 64, 67, 0.3), 0px 1px 3px 1px rgba(60, 64, 67, 0.15);\n",
              "      fill: #174EA6;\n",
              "    }\n",
              "\n",
              "    .colab-df-buttons div {\n",
              "      margin-bottom: 4px;\n",
              "    }\n",
              "\n",
              "    [theme=dark] .colab-df-convert {\n",
              "      background-color: #3B4455;\n",
              "      fill: #D2E3FC;\n",
              "    }\n",
              "\n",
              "    [theme=dark] .colab-df-convert:hover {\n",
              "      background-color: #434B5C;\n",
              "      box-shadow: 0px 1px 3px 1px rgba(0, 0, 0, 0.15);\n",
              "      filter: drop-shadow(0px 1px 2px rgba(0, 0, 0, 0.3));\n",
              "      fill: #FFFFFF;\n",
              "    }\n",
              "  </style>\n",
              "\n",
              "    <script>\n",
              "      const buttonEl =\n",
              "        document.querySelector('#df-003d1552-e7c7-4aac-a2d2-f135871464fd button.colab-df-convert');\n",
              "      buttonEl.style.display =\n",
              "        google.colab.kernel.accessAllowed ? 'block' : 'none';\n",
              "\n",
              "      async function convertToInteractive(key) {\n",
              "        const element = document.querySelector('#df-003d1552-e7c7-4aac-a2d2-f135871464fd');\n",
              "        const dataTable =\n",
              "          await google.colab.kernel.invokeFunction('convertToInteractive',\n",
              "                                                    [key], {});\n",
              "        if (!dataTable) return;\n",
              "\n",
              "        const docLinkHtml = 'Like what you see? Visit the ' +\n",
              "          '<a target=\"_blank\" href=https://colab.research.google.com/notebooks/data_table.ipynb>data table notebook</a>'\n",
              "          + ' to learn more about interactive tables.';\n",
              "        element.innerHTML = '';\n",
              "        dataTable['output_type'] = 'display_data';\n",
              "        await google.colab.output.renderOutput(dataTable, element);\n",
              "        const docLink = document.createElement('div');\n",
              "        docLink.innerHTML = docLinkHtml;\n",
              "        element.appendChild(docLink);\n",
              "      }\n",
              "    </script>\n",
              "  </div>\n",
              "\n",
              "\n",
              "<div id=\"df-e12760d6-b007-49b5-9a49-a51f613ab831\">\n",
              "  <button class=\"colab-df-quickchart\" onclick=\"quickchart('df-e12760d6-b007-49b5-9a49-a51f613ab831')\"\n",
              "            title=\"Suggest charts\"\n",
              "            style=\"display:none;\">\n",
              "\n",
              "<svg xmlns=\"http://www.w3.org/2000/svg\" height=\"24px\"viewBox=\"0 0 24 24\"\n",
              "     width=\"24px\">\n",
              "    <g>\n",
              "        <path d=\"M19 3H5c-1.1 0-2 .9-2 2v14c0 1.1.9 2 2 2h14c1.1 0 2-.9 2-2V5c0-1.1-.9-2-2-2zM9 17H7v-7h2v7zm4 0h-2V7h2v10zm4 0h-2v-4h2v4z\"/>\n",
              "    </g>\n",
              "</svg>\n",
              "  </button>\n",
              "\n",
              "<style>\n",
              "  .colab-df-quickchart {\n",
              "      --bg-color: #E8F0FE;\n",
              "      --fill-color: #1967D2;\n",
              "      --hover-bg-color: #E2EBFA;\n",
              "      --hover-fill-color: #174EA6;\n",
              "      --disabled-fill-color: #AAA;\n",
              "      --disabled-bg-color: #DDD;\n",
              "  }\n",
              "\n",
              "  [theme=dark] .colab-df-quickchart {\n",
              "      --bg-color: #3B4455;\n",
              "      --fill-color: #D2E3FC;\n",
              "      --hover-bg-color: #434B5C;\n",
              "      --hover-fill-color: #FFFFFF;\n",
              "      --disabled-bg-color: #3B4455;\n",
              "      --disabled-fill-color: #666;\n",
              "  }\n",
              "\n",
              "  .colab-df-quickchart {\n",
              "    background-color: var(--bg-color);\n",
              "    border: none;\n",
              "    border-radius: 50%;\n",
              "    cursor: pointer;\n",
              "    display: none;\n",
              "    fill: var(--fill-color);\n",
              "    height: 32px;\n",
              "    padding: 0;\n",
              "    width: 32px;\n",
              "  }\n",
              "\n",
              "  .colab-df-quickchart:hover {\n",
              "    background-color: var(--hover-bg-color);\n",
              "    box-shadow: 0 1px 2px rgba(60, 64, 67, 0.3), 0 1px 3px 1px rgba(60, 64, 67, 0.15);\n",
              "    fill: var(--button-hover-fill-color);\n",
              "  }\n",
              "\n",
              "  .colab-df-quickchart-complete:disabled,\n",
              "  .colab-df-quickchart-complete:disabled:hover {\n",
              "    background-color: var(--disabled-bg-color);\n",
              "    fill: var(--disabled-fill-color);\n",
              "    box-shadow: none;\n",
              "  }\n",
              "\n",
              "  .colab-df-spinner {\n",
              "    border: 2px solid var(--fill-color);\n",
              "    border-color: transparent;\n",
              "    border-bottom-color: var(--fill-color);\n",
              "    animation:\n",
              "      spin 1s steps(1) infinite;\n",
              "  }\n",
              "\n",
              "  @keyframes spin {\n",
              "    0% {\n",
              "      border-color: transparent;\n",
              "      border-bottom-color: var(--fill-color);\n",
              "      border-left-color: var(--fill-color);\n",
              "    }\n",
              "    20% {\n",
              "      border-color: transparent;\n",
              "      border-left-color: var(--fill-color);\n",
              "      border-top-color: var(--fill-color);\n",
              "    }\n",
              "    30% {\n",
              "      border-color: transparent;\n",
              "      border-left-color: var(--fill-color);\n",
              "      border-top-color: var(--fill-color);\n",
              "      border-right-color: var(--fill-color);\n",
              "    }\n",
              "    40% {\n",
              "      border-color: transparent;\n",
              "      border-right-color: var(--fill-color);\n",
              "      border-top-color: var(--fill-color);\n",
              "    }\n",
              "    60% {\n",
              "      border-color: transparent;\n",
              "      border-right-color: var(--fill-color);\n",
              "    }\n",
              "    80% {\n",
              "      border-color: transparent;\n",
              "      border-right-color: var(--fill-color);\n",
              "      border-bottom-color: var(--fill-color);\n",
              "    }\n",
              "    90% {\n",
              "      border-color: transparent;\n",
              "      border-bottom-color: var(--fill-color);\n",
              "    }\n",
              "  }\n",
              "</style>\n",
              "\n",
              "  <script>\n",
              "    async function quickchart(key) {\n",
              "      const quickchartButtonEl =\n",
              "        document.querySelector('#' + key + ' button');\n",
              "      quickchartButtonEl.disabled = true;  // To prevent multiple clicks.\n",
              "      quickchartButtonEl.classList.add('colab-df-spinner');\n",
              "      try {\n",
              "        const charts = await google.colab.kernel.invokeFunction(\n",
              "            'suggestCharts', [key], {});\n",
              "      } catch (error) {\n",
              "        console.error('Error during call to suggestCharts:', error);\n",
              "      }\n",
              "      quickchartButtonEl.classList.remove('colab-df-spinner');\n",
              "      quickchartButtonEl.classList.add('colab-df-quickchart-complete');\n",
              "    }\n",
              "    (() => {\n",
              "      let quickchartButtonEl =\n",
              "        document.querySelector('#df-e12760d6-b007-49b5-9a49-a51f613ab831 button');\n",
              "      quickchartButtonEl.style.display =\n",
              "        google.colab.kernel.accessAllowed ? 'block' : 'none';\n",
              "    })();\n",
              "  </script>\n",
              "</div>\n",
              "\n",
              "    </div>\n",
              "  </div>\n"
            ],
            "application/vnd.google.colaboratory.intrinsic+json": {
              "type": "dataframe",
              "variable_name": "df",
              "summary": "{\n  \"name\": \"df\",\n  \"rows\": 4572,\n  \"fields\": [\n    {\n      \"column\": \"TV\",\n      \"properties\": {\n        \"dtype\": \"number\",\n        \"std\": 26.125053891841453,\n        \"min\": 10.0,\n        \"max\": 100.0,\n        \"num_unique_values\": 91,\n        \"samples\": [\n          32.0,\n          75.0,\n          97.0\n        ],\n        \"semantic_type\": \"\",\n        \"description\": \"\"\n      }\n    },\n    {\n      \"column\": \"Radio\",\n      \"properties\": {\n        \"dtype\": \"number\",\n        \"std\": 9.676958456095425,\n        \"min\": 0.000683948,\n        \"max\": 48.87116125,\n        \"num_unique_values\": 4568,\n        \"samples\": [\n          14.39599154,\n          37.26381865,\n          12.38447814\n        ],\n        \"semantic_type\": \"\",\n        \"description\": \"\"\n      }\n    },\n    {\n      \"column\": \"Social Media\",\n      \"properties\": {\n        \"dtype\": \"number\",\n        \"std\": 2.2126702639216544,\n        \"min\": 3.13e-05,\n        \"max\": 13.98166208,\n        \"num_unique_values\": 4566,\n        \"samples\": [\n          0.89945807,\n          4.628289393,\n          1.970540402\n        ],\n        \"semantic_type\": \"\",\n        \"description\": \"\"\n      }\n    },\n    {\n      \"column\": \"Influencer\",\n      \"properties\": {\n        \"dtype\": \"category\",\n        \"num_unique_values\": 4,\n        \"samples\": [\n          \"Micro\",\n          \"Macro\",\n          \"Mega\"\n        ],\n        \"semantic_type\": \"\",\n        \"description\": \"\"\n      }\n    },\n    {\n      \"column\": \"Sales\",\n      \"properties\": {\n        \"dtype\": \"number\",\n        \"std\": 93.13309168784251,\n        \"min\": 31.19940869,\n        \"max\": 364.0797515,\n        \"num_unique_values\": 4566,\n        \"samples\": [\n          127.6646972,\n          180.3746086,\n          75.12415924\n        ],\n        \"semantic_type\": \"\",\n        \"description\": \"\"\n      }\n    }\n  ]\n}"
            }
          },
          "metadata": {},
          "execution_count": 8
        }
      ]
    },
    {
      "cell_type": "code",
      "source": [
        "df = pd.get_dummies(df)\n",
        "df.info()"
      ],
      "metadata": {
        "id": "j1jUk_NoMfpa",
        "colab": {
          "base_uri": "https://localhost:8080/"
        },
        "outputId": "189452b4-d74e-4144-c5a3-22295c6cc8f5"
      },
      "execution_count": 10,
      "outputs": [
        {
          "output_type": "stream",
          "name": "stdout",
          "text": [
            "<class 'pandas.core.frame.DataFrame'>\n",
            "RangeIndex: 4572 entries, 0 to 4571\n",
            "Data columns (total 8 columns):\n",
            " #   Column            Non-Null Count  Dtype  \n",
            "---  ------            --------------  -----  \n",
            " 0   TV                4562 non-null   float64\n",
            " 1   Radio             4568 non-null   float64\n",
            " 2   Social Media      4566 non-null   float64\n",
            " 3   Sales             4566 non-null   float64\n",
            " 4   Influencer_Macro  4572 non-null   bool   \n",
            " 5   Influencer_Mega   4572 non-null   bool   \n",
            " 6   Influencer_Micro  4572 non-null   bool   \n",
            " 7   Influencer_Nano   4572 non-null   bool   \n",
            "dtypes: bool(4), float64(4)\n",
            "memory usage: 160.9 KB\n"
          ]
        }
      ]
    },
    {
      "cell_type": "code",
      "source": [
        "# Handle Null values\n",
        "df = df.fillna(df.mean())\n",
        "\n",
        "# Get features\n",
        "X = df[['TV', 'Radio', 'Social Media', 'Influencer_Macro', 'Influencer_Mega', 'Influencer_Micro', 'Influencer_Nano']]\n",
        "y = df[['Sales']]\n",
        "\n",
        "# Train Test Split\n",
        "from sklearn.model_selection import train_test_split\n",
        "X_train, X_test, y_train, y_test = train_test_split(\n",
        "    X,\n",
        "    y,\n",
        "    test_size=0.33,\n",
        "    random_state=0\n",
        ")"
      ],
      "metadata": {
        "id": "Dll9Y2gzbmTC"
      },
      "execution_count": 11,
      "outputs": []
    },
    {
      "cell_type": "code",
      "source": [
        "from sklearn.preprocessing import StandardScaler\n",
        "scaler = StandardScaler()\n",
        "X_train_processed = scaler.fit_transform(X_train)\n",
        "scaler.mean_[0]"
      ],
      "metadata": {
        "colab": {
          "base_uri": "https://localhost:8080/"
        },
        "id": "lgm8c0TBbmVx",
        "outputId": "6d578f60-217a-4094-8c6c-aecdfb4428e4"
      },
      "execution_count": 12,
      "outputs": [
        {
          "output_type": "execute_result",
          "data": {
            "text/plain": [
              "54.173577723283785"
            ]
          },
          "metadata": {},
          "execution_count": 12
        }
      ]
    },
    {
      "cell_type": "code",
      "source": [
        "from sklearn.preprocessing import PolynomialFeatures\n",
        "from sklearn.preprocessing import StandardScaler  # Make sure StandardScaler is imported\n",
        "\n",
        "poly_features = PolynomialFeatures(degree=2)\n",
        "X_train_poly = poly_features.fit_transform(X_train_processed)\n",
        "\n",
        "# Apply StandardScaler to X_test before PolynomialFeatures\n",
        "scaler = StandardScaler()  # Instantiate StandardScaler\n",
        "X_test_processed = scaler.fit_transform(X_test) #Scale test data\n",
        "\n",
        "X_test_poly = poly_features.transform(X_test_processed)\n",
        "\n",
        "from sklearn.linear_model import LinearRegression\n",
        "\n",
        "model = LinearRegression()\n",
        "model.fit(X_train_poly, y_train)\n",
        "\n",
        "# And then make predictions on X_test_poly:\n",
        "y_pred = model.predict(X_test_poly)"
      ],
      "metadata": {
        "id": "WAuPCsrRbmYk"
      },
      "execution_count": 14,
      "outputs": []
    },
    {
      "cell_type": "code",
      "source": [
        "from sklearn.linear_model import LinearRegression\n",
        "from sklearn.metrics import r2_score\n",
        "poly_model = LinearRegression()\n",
        "poly_model.fit(X_train_poly, y_train)\n",
        "preds = poly_model.predict(X_test_poly)\n",
        "r2_score(y_test, preds)"
      ],
      "metadata": {
        "colab": {
          "base_uri": "https://localhost:8080/"
        },
        "id": "9SAvUuJvbmbX",
        "outputId": "2a38a3cd-d37b-430d-b981-9493b3ea03b4"
      },
      "execution_count": 15,
      "outputs": [
        {
          "output_type": "execute_result",
          "data": {
            "text/plain": [
              "-2.2119776223197106e+21"
            ]
          },
          "metadata": {},
          "execution_count": 15
        }
      ]
    }
  ]
}